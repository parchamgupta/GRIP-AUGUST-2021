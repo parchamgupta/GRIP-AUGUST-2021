{
  "nbformat": 4,
  "nbformat_minor": 0,
  "metadata": {
    "colab": {
      "name": "GRIP task 1.ipynb",
      "provenance": [],
      "collapsed_sections": []
    },
    "kernelspec": {
      "name": "python3",
      "display_name": "Python 3"
    },
    "language_info": {
      "name": "python"
    }
  },
  "cells": [
    {
      "cell_type": "markdown",
      "metadata": {
        "id": "Vwj2m1di80Y3"
      },
      "source": [
        "#INTERN : PARCHAM GUPTA\n",
        "\n",
        "#DATA SCIENCE AND BUSINESS ANALYTICS Intern at the Sparks Foundation\n"
      ]
    },
    {
      "cell_type": "markdown",
      "metadata": {
        "id": "8s1QUtOg_ieb"
      },
      "source": [
        "\n",
        "#TASK 1: Prediction Using Supervised ML"
      ]
    },
    {
      "cell_type": "markdown",
      "metadata": {
        "id": "X0i2T8sf-2hF"
      },
      "source": [
        "##Importing the required libraries"
      ]
    },
    {
      "cell_type": "code",
      "metadata": {
        "id": "SsOh4X1ZdF_g"
      },
      "source": [
        "import pandas as pd\n",
        "import numpy as np\n",
        "import matplotlib.pyplot as plt\n",
        "from sklearn.model_selection import train_test_split\n",
        "from sklearn.linear_model import LinearRegression\n",
        "from sklearn.metrics import r2_score"
      ],
      "execution_count": null,
      "outputs": []
    },
    {
      "cell_type": "markdown",
      "metadata": {
        "id": "xYbV5krT_FAG"
      },
      "source": [
        "##Reading the dataset"
      ]
    },
    {
      "cell_type": "code",
      "metadata": {
        "id": "06QlRVP7ddzT"
      },
      "source": [
        "df = pd.read_csv(\"student_scores.csv\")"
      ],
      "execution_count": null,
      "outputs": []
    },
    {
      "cell_type": "markdown",
      "metadata": {
        "id": "V5xTCZ7E_I-N"
      },
      "source": [
        "##Having a view at top 5 rows of the dataset"
      ]
    },
    {
      "cell_type": "code",
      "metadata": {
        "colab": {
          "base_uri": "https://localhost:8080/"
        },
        "id": "v0tp9JbndrOo",
        "outputId": "4461da21-5097-48ff-dac5-52f23a231b5f"
      },
      "source": [
        "df.head()"
      ],
      "execution_count": null,
      "outputs": [
        {
          "output_type": "execute_result",
          "data": {
            "text/html": [
              "<div>\n",
              "<style scoped>\n",
              "    .dataframe tbody tr th:only-of-type {\n",
              "        vertical-align: middle;\n",
              "    }\n",
              "\n",
              "    .dataframe tbody tr th {\n",
              "        vertical-align: top;\n",
              "    }\n",
              "\n",
              "    .dataframe thead th {\n",
              "        text-align: right;\n",
              "    }\n",
              "</style>\n",
              "<table border=\"1\" class=\"dataframe\">\n",
              "  <thead>\n",
              "    <tr style=\"text-align: right;\">\n",
              "      <th></th>\n",
              "      <th>Hours</th>\n",
              "      <th>Scores</th>\n",
              "    </tr>\n",
              "  </thead>\n",
              "  <tbody>\n",
              "    <tr>\n",
              "      <th>0</th>\n",
              "      <td>2.5</td>\n",
              "      <td>21</td>\n",
              "    </tr>\n",
              "    <tr>\n",
              "      <th>1</th>\n",
              "      <td>5.1</td>\n",
              "      <td>47</td>\n",
              "    </tr>\n",
              "    <tr>\n",
              "      <th>2</th>\n",
              "      <td>3.2</td>\n",
              "      <td>27</td>\n",
              "    </tr>\n",
              "    <tr>\n",
              "      <th>3</th>\n",
              "      <td>8.5</td>\n",
              "      <td>75</td>\n",
              "    </tr>\n",
              "    <tr>\n",
              "      <th>4</th>\n",
              "      <td>3.5</td>\n",
              "      <td>30</td>\n",
              "    </tr>\n",
              "  </tbody>\n",
              "</table>\n",
              "</div>"
            ],
            "text/plain": [
              "   Hours  Scores\n",
              "0    2.5      21\n",
              "1    5.1      47\n",
              "2    3.2      27\n",
              "3    8.5      75\n",
              "4    3.5      30"
            ]
          },
          "metadata": {},
          "execution_count": 3
        }
      ]
    },
    {
      "cell_type": "markdown",
      "metadata": {
        "id": "_G1bz11D_l8g"
      },
      "source": [
        "##Exploring the dimensions of the dataset"
      ]
    },
    {
      "cell_type": "code",
      "metadata": {
        "colab": {
          "base_uri": "https://localhost:8080/"
        },
        "id": "GkifOIyIdsGP",
        "outputId": "0d9401db-a922-4fac-ace1-0ba1ba2427d5"
      },
      "source": [
        "df.shape"
      ],
      "execution_count": null,
      "outputs": [
        {
          "output_type": "execute_result",
          "data": {
            "text/plain": [
              "(25, 2)"
            ]
          },
          "metadata": {},
          "execution_count": 4
        }
      ]
    },
    {
      "cell_type": "markdown",
      "metadata": {
        "id": "NwR1maSJ_qYS"
      },
      "source": [
        "##Statistical Analysis of the dataset"
      ]
    },
    {
      "cell_type": "code",
      "metadata": {
        "colab": {
          "base_uri": "https://localhost:8080/"
        },
        "id": "lz_gYLfDdtI2",
        "outputId": "16f8c8d9-99b3-4b7e-8895-31c48a0d820a"
      },
      "source": [
        "df.describe()"
      ],
      "execution_count": null,
      "outputs": [
        {
          "output_type": "execute_result",
          "data": {
            "text/html": [
              "<div>\n",
              "<style scoped>\n",
              "    .dataframe tbody tr th:only-of-type {\n",
              "        vertical-align: middle;\n",
              "    }\n",
              "\n",
              "    .dataframe tbody tr th {\n",
              "        vertical-align: top;\n",
              "    }\n",
              "\n",
              "    .dataframe thead th {\n",
              "        text-align: right;\n",
              "    }\n",
              "</style>\n",
              "<table border=\"1\" class=\"dataframe\">\n",
              "  <thead>\n",
              "    <tr style=\"text-align: right;\">\n",
              "      <th></th>\n",
              "      <th>Hours</th>\n",
              "      <th>Scores</th>\n",
              "    </tr>\n",
              "  </thead>\n",
              "  <tbody>\n",
              "    <tr>\n",
              "      <th>count</th>\n",
              "      <td>25.000000</td>\n",
              "      <td>25.000000</td>\n",
              "    </tr>\n",
              "    <tr>\n",
              "      <th>mean</th>\n",
              "      <td>5.012000</td>\n",
              "      <td>51.480000</td>\n",
              "    </tr>\n",
              "    <tr>\n",
              "      <th>std</th>\n",
              "      <td>2.525094</td>\n",
              "      <td>25.286887</td>\n",
              "    </tr>\n",
              "    <tr>\n",
              "      <th>min</th>\n",
              "      <td>1.100000</td>\n",
              "      <td>17.000000</td>\n",
              "    </tr>\n",
              "    <tr>\n",
              "      <th>25%</th>\n",
              "      <td>2.700000</td>\n",
              "      <td>30.000000</td>\n",
              "    </tr>\n",
              "    <tr>\n",
              "      <th>50%</th>\n",
              "      <td>4.800000</td>\n",
              "      <td>47.000000</td>\n",
              "    </tr>\n",
              "    <tr>\n",
              "      <th>75%</th>\n",
              "      <td>7.400000</td>\n",
              "      <td>75.000000</td>\n",
              "    </tr>\n",
              "    <tr>\n",
              "      <th>max</th>\n",
              "      <td>9.200000</td>\n",
              "      <td>95.000000</td>\n",
              "    </tr>\n",
              "  </tbody>\n",
              "</table>\n",
              "</div>"
            ],
            "text/plain": [
              "           Hours     Scores\n",
              "count  25.000000  25.000000\n",
              "mean    5.012000  51.480000\n",
              "std     2.525094  25.286887\n",
              "min     1.100000  17.000000\n",
              "25%     2.700000  30.000000\n",
              "50%     4.800000  47.000000\n",
              "75%     7.400000  75.000000\n",
              "max     9.200000  95.000000"
            ]
          },
          "metadata": {},
          "execution_count": 5
        }
      ]
    },
    {
      "cell_type": "markdown",
      "metadata": {
        "id": "jN9Oqtao_w1m"
      },
      "source": [
        "##Dividing the dataset into independent and dependent variables"
      ]
    },
    {
      "cell_type": "code",
      "metadata": {
        "id": "Hk3FBMEoduNU"
      },
      "source": [
        "X = np.asarray(df['Hours']).reshape(-1, 1)\n",
        "y = df['Scores']"
      ],
      "execution_count": null,
      "outputs": []
    },
    {
      "cell_type": "markdown",
      "metadata": {
        "id": "o5fjU9rz_3C5"
      },
      "source": [
        "##Checking the distribution and relation between X and y"
      ]
    },
    {
      "cell_type": "code",
      "metadata": {
        "colab": {
          "base_uri": "https://localhost:8080/"
        },
        "id": "OtBQOZU4eX3D",
        "outputId": "1da0f229-75d3-40b1-8071-77cd5093bc8d"
      },
      "source": [
        "plt.scatter(X, y)\n",
        "plt.xlabel(\"Hours\")\n",
        "plt.ylabel(\"Scores\")\n",
        "plt.show()"
      ],
      "execution_count": null,
      "outputs": [
        {
          "output_type": "display_data",
          "data": {
            "image/png": "[encoded data removed]",
            "text/plain": [
              "<Figure size 432x288 with 1 Axes>"
            ]
          },
          "metadata": {
            "needs_background": "light"
          }
        }
      ]
    },
    {
      "cell_type": "markdown",
      "metadata": {
        "id": "ZX0QNUWc_78B"
      },
      "source": [
        "##Dividing the data into training and testing subsets"
      ]
    },
    {
      "cell_type": "code",
      "metadata": {
        "id": "Nb--7EBid8UW"
      },
      "source": [
        "X_train, X_test, y_train, y_test = train_test_split(X, y, test_size = 0.2, random_state = 42)"
      ],
      "execution_count": null,
      "outputs": []
    },
    {
      "cell_type": "markdown",
      "metadata": {
        "id": "1hyAEYNcAA2-"
      },
      "source": [
        "##As the data distribution and dependence of y on X seems linear, we choose linear regression\n",
        "##Defining a base model"
      ]
    },
    {
      "cell_type": "code",
      "metadata": {
        "id": "rlN94KbkeGco"
      },
      "source": [
        "model = LinearRegression()"
      ],
      "execution_count": null,
      "outputs": []
    },
    {
      "cell_type": "markdown",
      "metadata": {
        "id": "Lbv-KKw4AGCB"
      },
      "source": [
        "##Fitting the model on training data"
      ]
    },
    {
      "cell_type": "code",
      "metadata": {
        "colab": {
          "base_uri": "https://localhost:8080/"
        },
        "id": "lrc4s8zbeLVH",
        "outputId": "e6e11ddd-60bd-4dc4-992a-f7623c5b9b4f"
      },
      "source": [
        "model.fit(X_train, y_train)"
      ],
      "execution_count": null,
      "outputs": [
        {
          "output_type": "execute_result",
          "data": {
            "text/plain": [
              "LinearRegression(copy_X=True, fit_intercept=True, n_jobs=None, normalize=False)"
            ]
          },
          "metadata": {},
          "execution_count": 10
        }
      ]
    },
    {
      "cell_type": "markdown",
      "metadata": {
        "id": "1nuvDef8AJvJ"
      },
      "source": [
        "##Using the trained model to predict on testing (unseen) data"
      ]
    },
    {
      "cell_type": "code",
      "metadata": {
        "id": "IYA65mOUeOsn"
      },
      "source": [
        "y_pred = model.predict(X_test)"
      ],
      "execution_count": null,
      "outputs": []
    },
    {
      "cell_type": "markdown",
      "metadata": {
        "id": "gWUDmg2IAOoo"
      },
      "source": [
        "##Checking the accuracy of the model on unseen data using R2 score metric"
      ]
    },
    {
      "cell_type": "code",
      "metadata": {
        "colab": {
          "base_uri": "https://localhost:8080/"
        },
        "id": "CtR-Ec4jeVYK",
        "outputId": "8d9e146a-1358-47d9-9092-15dc7c51d443"
      },
      "source": [
        "r2_score(y_test, y_pred)"
      ],
      "execution_count": null,
      "outputs": [
        {
          "output_type": "execute_result",
          "data": {
            "text/plain": [
              "0.9678055545167994"
            ]
          },
          "metadata": {},
          "execution_count": 12
        }
      ]
    },
    {
      "cell_type": "markdown",
      "metadata": {
        "id": "Lz_fBDmPBYMz"
      },
      "source": [
        "##The model has a good accuracy and is acceptable within limits of error"
      ]
    },
    {
      "cell_type": "markdown",
      "metadata": {
        "id": "XbZQNvBEAVcB"
      },
      "source": [
        "##Since, the model is linear regression, checking the coefficients and the intercept of the fitted linear model"
      ]
    },
    {
      "cell_type": "code",
      "metadata": {
        "id": "_QM5ByfAgDJ2",
        "colab": {
          "base_uri": "https://localhost:8080/"
        },
        "outputId": "a42405ff-0a34-4444-d856-c966fe35470d"
      },
      "source": [
        "c = model.coef_\n",
        "print(\"Coefficient : \", c)"
      ],
      "execution_count": null,
      "outputs": [
        {
          "output_type": "stream",
          "text": [
            "Coefficient :  [9.68207815]\n"
          ],
          "name": "stdout"
        }
      ]
    },
    {
      "cell_type": "code",
      "metadata": {
        "id": "O77RDrpXgDZt",
        "colab": {
          "base_uri": "https://localhost:8080/"
        },
        "outputId": "bfa9119a-d82e-4b72-daf2-af3e0c38537d"
      },
      "source": [
        "i = model.intercept_\n",
        "print(\"Intercept : \", i)"
      ],
      "execution_count": null,
      "outputs": [
        {
          "output_type": "stream",
          "text": [
            "Intercept :  2.826892353899737\n"
          ],
          "name": "stdout"
        }
      ]
    },
    {
      "cell_type": "markdown",
      "metadata": {
        "id": "L1rJ8SmQA2a8"
      },
      "source": [
        "##Plotting the datapoints with the trained linear regression line"
      ]
    },
    {
      "cell_type": "markdown",
      "metadata": {
        "id": "41Ord5c-BIEm"
      },
      "source": [
        "###The blue points represent the data points and the orange line represent the fitted model approximation"
      ]
    },
    {
      "cell_type": "code",
      "metadata": {
        "colab": {
          "base_uri": "https://localhost:8080/"
        },
        "id": "Ecr16mr9fr92",
        "outputId": "511d7c48-139a-42e5-e78f-3a08f8c1ace1"
      },
      "source": [
        "plt.scatter(X, y)\n",
        "y_line = []\n",
        "x_line = np.linspace(0, 10, 100)\n",
        "for x in x_line:\n",
        "  y_line.append(x*c + i)\n",
        "plt.plot(x_line, y_line, color = 'orange')\n",
        "plt.xlabel(\"Hours\")\n",
        "plt.ylabel(\"Scores\")\n",
        "plt.show()"
      ],
      "execution_count": null,
      "outputs": [
        {
          "output_type": "display_data",
          "data": {
            "image/png": "[encoded data removed]",
            "text/plain": [
              "<Figure size 432x288 with 1 Axes>"
            ]
          },
          "metadata": {
            "needs_background": "light"
          }
        }
      ]
    },
    {
      "cell_type": "markdown",
      "metadata": {
        "id": "DfSQIRmWBRhl"
      },
      "source": [
        "##Predicting on the given value with the trained model"
      ]
    },
    {
      "cell_type": "code",
      "metadata": {
        "id": "jbqLdnqqgYlT",
        "colab": {
          "base_uri": "https://localhost:8080/"
        },
        "outputId": "4c7d227d-4941-46ee-b170-bd98a248aa56"
      },
      "source": [
        "user_val = np.asarray(9.25).reshape(-1,1)\n",
        "user_ans = model.predict(user_val)\n",
        "print(\"The predicted score if a student studies for 9.25 hrs/ day is : \", int(user_ans[0]))"
      ],
      "execution_count": null,
      "outputs": [
        {
          "output_type": "stream",
          "text": [
            "The predicted score if a student studies for 9.25 hrs/ day is :  92\n"
          ],
          "name": "stdout"
        }
      ]
    },
    {
      "cell_type": "code",
      "metadata": {
        "id": "_DlcO1KPCDdU"
      },
      "source": [
        ""
      ],
      "execution_count": null,
      "outputs": []
    }
  ]
}